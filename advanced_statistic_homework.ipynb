{
  "nbformat": 4,
  "nbformat_minor": 0,
  "metadata": {
    "colab": {
      "provenance": []
    },
    "kernelspec": {
      "name": "python3",
      "display_name": "Python 3"
    },
    "language_info": {
      "name": "python"
    }
  },
  "cells": [
    {
      "cell_type": "markdown",
      "source": [
        "# Hypothesis Testing Problem Statement"
      ],
      "metadata": {
        "id": "D-JbxtkOUbmn"
      }
    },
    {
      "cell_type": "markdown",
      "source": [
        "### 1. Anda adalah seorang Manager yang baru bekerja di Supermarket X. Berdasarkan data history di tahun 2020, rata-rata usia pembeli di Supermarket Anda berusia 20 tahun ke atas. Anda ingin melakukan study di bulan-bulan ini setelah Anda bergabung, berapa banyak proporsi pembeli yang berusia 20 tahun ke atas. Untuk itu, Anda mengambil random sample 500 pengunjung yang melakukan pembelian di Supermarket Anda. Tuliskan Null Hypothesis dan Alternative Hypothesis dari studi yang Anda lakukan."
      ],
      "metadata": {
        "id": "UbU3tpvNUkIM"
      }
    },
    {
      "cell_type": "markdown",
      "source": [
        "\n",
        "#### *Null Hypothesis* / Hipotesis Nol (Ho)\n",
        "\n",
        "Ho: Tidak ada perbedaan proporsi pembeli yang berusia 20 tahun ke atas di Supermarket X antara tahun 2020 dan bulan-bulan ini.\n",
        "\n",
        "#### *Alternative Hypothesis* / Hipotesis Alternatif (Ha)\n",
        "\n",
        "Ha: Ada perbedaan proporsi pembeli yang berusia 20 tahun ke atas di Supermarket X antara tahun 2020 dan bulan-bulan ini."
      ],
      "metadata": {
        "id": "mROqwf48eBPI"
      }
    },
    {
      "cell_type": "markdown",
      "source": [
        "### 2. Terhadap 500 orang tersebut, Anda ingin melakukan uji 1 sample-test untuk memverifikasi hipotesis yang telah Anda tulis di jawaban No. 1. Berikut adalah distribusi usia dari 500 random sample tersebut. (Buka file age_distribution.txt)\n",
        "### a. Uji Hypothesistesting apakah yang akan Anda lakukan? Ambil asumsi normality dalam hal ini.\n",
        "### b. Berapakah besaran test statistic dari uji hipotesis pada poin a)\n",
        "### c. Berapakah besaran p- value-nya?\n",
        "### d. Bagaimana kesimpulan dari hypothesis testing poin a) dan b) Apakah Anda akan me- reject atau accept Null Hypothesis-nya?"
      ],
      "metadata": {
        "id": "R_RxIqR3fZLr"
      }
    },
    {
      "cell_type": "markdown",
      "source": [
        "#### a) Uji hipotesis yang akan digunakan adalah Uji T-Satu Sampel. Uji T-Satu Sampel digunakan untuk menguji apakah rata-rata populasi sama dengan suatu nilai tertentu. Pada studi ini, nilai tertentunya yang diuji sebagai hipotesis adalah 20 tahun."
      ],
      "metadata": {
        "id": "nn-0MPadomMM"
      }
    },
    {
      "cell_type": "markdown",
      "source": [
        "#### b) Besaran *test statistic* dari uji hipotesis pada poin a) adalah sebagai berikut:"
      ],
      "metadata": {
        "id": "_mdomPN1pIIu"
      }
    },
    {
      "cell_type": "code",
      "source": [
        "# Mengimport fungsi ttest_1samp dari modul scipy.stats untuk melakukan uji t-test satu sampel\n",
        "from scipy.stats import ttest_1samp\n",
        "\n",
        "# Menggunakan library numpy untuk membantu mengolah data yang digunakan dalam studi ini\n",
        "import numpy as np\n",
        "\n",
        "# Data yang digunakan dalam studi ini diambil dari file 'age_distribution.txt' (dinyatakan sebagai 'data')\n",
        "data = np.loadtxt('age_distribution.txt')\n",
        "\n",
        "# Menghitung besaran t-statistic dan p-value\n",
        "t_statistic, p_value = ttest_1samp(data, 20, alternative='two-sided')\n",
        "\n",
        "print(f'Besaran test statistic dari Uji T-Satu Sampel pada studi ini adalah', t_statistic)"
      ],
      "metadata": {
        "colab": {
          "base_uri": "https://localhost:8080/"
        },
        "id": "ZWKRBCRGmoO6",
        "outputId": "99447c98-2846-4a53-b3ef-6046ebea573e"
      },
      "execution_count": null,
      "outputs": [
        {
          "output_type": "stream",
          "name": "stdout",
          "text": [
            "Besaran test statistic dari Uji T-Satu Sampel pada studi ini adalah 2.6343913433586814\n"
          ]
        }
      ]
    },
    {
      "cell_type": "markdown",
      "source": [
        "#### c) Besaran p- value adalah sebagai berikut:"
      ],
      "metadata": {
        "id": "xaqsAy8fwUW-"
      }
    },
    {
      "cell_type": "code",
      "source": [
        "print(f'Besaran p-value pada studi ini adalah', p_value.round(4))"
      ],
      "metadata": {
        "colab": {
          "base_uri": "https://localhost:8080/"
        },
        "id": "IiTOc98Dqr1K",
        "outputId": "f887e82c-8a35-401e-939c-9de9a905cacf"
      },
      "execution_count": null,
      "outputs": [
        {
          "output_type": "stream",
          "name": "stdout",
          "text": [
            "Besaran p-value pada studi ini adalah 0.0087\n"
          ]
        }
      ]
    },
    {
      "cell_type": "markdown",
      "source": [
        "#### d. Bagaimana kesimpulan dari hypothesis testing poin a) dan b) Apakah Anda akan me- reject atau accept Null Hypothesis-nya?"
      ],
      "metadata": {
        "id": "sIe94OFzGVeM"
      }
    },
    {
      "cell_type": "code",
      "source": [
        "# Menginisialisasi alpha, tingkat signifikansi uji hipotesis (0.05 = 5%)\n",
        "alpha = 0.05\n",
        "\n",
        "# Melakukan uji hipotesis. Jika nilai p-value lebih besar dari alpha, maka hipotesis nol diterima. Sebaliknya, jika nilai p-value lebih kecil dari alpha, maka hipotesis nol ditolak.\n",
        "if p_value > alpha:\n",
        "  print (f'Null Hypothesis / Hipotesis Nol (Ho) diterima. Tidak ada perbedaan proporsi pembeli yang berusia 20 tahun ke atas di Supermarket X antara tahun 2020 dan bulan-bulan ini.')\n",
        "else:\n",
        "  print (f'Null Hypothesis / Hipotesis Nol (Ho) ditolak. Ada perbedaan proporsi pembeli yang berusia 20 tahun ke atas di Supermarket X antara tahun 2020 dan bulan-bulan ini.')"
      ],
      "metadata": {
        "colab": {
          "base_uri": "https://localhost:8080/"
        },
        "id": "ATuhvAHPGy39",
        "outputId": "1c964e3b-ad58-472b-cd07-abe403646d78"
      },
      "execution_count": null,
      "outputs": [
        {
          "output_type": "stream",
          "name": "stdout",
          "text": [
            "Null Hypothesis / Hipotesis Nol (Ho) ditolak. Ada perbedaan proporsi pembeli yang berusia 20 tahun ke atas di Supermarket X antara tahun 2020 dan bulan-bulan ini.\n"
          ]
        }
      ]
    },
    {
      "cell_type": "markdown",
      "source": [
        "Pada studi ini, nilai p-value adalah 0.0087. Nilai ini lebih kecil dari alpha = 0.05. Oleh karena itu, hipotesis nol ditolak."
      ],
      "metadata": {
        "id": "HrrzbI7uLPAy"
      }
    }
  ]
}